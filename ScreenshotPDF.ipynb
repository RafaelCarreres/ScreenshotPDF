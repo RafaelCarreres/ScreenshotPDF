{
  "nbformat": 4,
  "nbformat_minor": 0,
  "metadata": {
    "colab": {
      "provenance": []
    },
    "kernelspec": {
      "name": "python3",
      "display_name": "Python 3"
    },
    "language_info": {
      "name": "python"
    }
  },
  "cells": [
    {
      "cell_type": "code",
      "source": [
        "import os\n",
        "from PIL import Image\n",
        "from google.colab import files\n",
        "from datetime import datetime\n",
        "\n",
        "# Delete any existing files that start with 'screenshot_' to avoid accumulation\n",
        "for existing_file in os.listdir('/content'):\n",
        "    if existing_file.startswith('screenshot_'):\n",
        "        os.remove(os.path.join('/content', existing_file))\n",
        "\n",
        "# Upload new files from local computer\n",
        "uploaded = files.upload()\n",
        "\n",
        "# Save uploaded files in the default location\n",
        "for filename in uploaded.keys():\n",
        "    with open(os.path.join('/content', filename), 'wb') as f:\n",
        "        f.write(uploaded[filename])\n",
        "\n",
        "# Function to clean the filename and remove any extra parts like '(1)'\n",
        "def clean_filename(filename):\n",
        "    return filename.split(' (')[0]  # Remove anything after the space and opening parenthesis\n",
        "\n",
        "# Function to generate PDF from the uploaded screenshots\n",
        "def create_pdf_from_uploaded_files():\n",
        "    # List all uploaded files in the default folder\n",
        "    files_in_folder = [f for f in os.listdir('/content') if f.endswith('.png')]\n",
        "\n",
        "    # Sort files by timestamp assuming filenames follow 'screenshot_${timestamp}.png'\n",
        "    sorted_files = sorted(files_in_folder, key=lambda x: datetime.strptime(clean_filename(x).split('_')[1].split('.')[0], \"%Y-%m-%dT%H-%M-%S-%fZ\"))\n",
        "\n",
        "    # Open images and convert them to a list of PIL objects\n",
        "    images = []\n",
        "    for file_name in sorted_files:\n",
        "        img_path = os.path.join('/content', file_name)\n",
        "        img = Image.open(img_path).convert('RGB')\n",
        "        images.append(img)\n",
        "\n",
        "    # Create the PDF\n",
        "    if images:\n",
        "        pdf_path = os.path.join('/content', \"screenshots.pdf\")\n",
        "        images[0].save(pdf_path, save_all=True, append_images=images[1:])\n",
        "        print(f\"PDF created successfully at {pdf_path}\")\n",
        "\n",
        "        # Download the PDF\n",
        "        files.download(pdf_path)\n",
        "\n",
        "# Create PDF from uploaded files\n",
        "create_pdf_from_uploaded_files()\n"
      ],
      "metadata": {
        "id": "nElKG0h10L4k"
      },
      "execution_count": null,
      "outputs": []
    }
  ]
}